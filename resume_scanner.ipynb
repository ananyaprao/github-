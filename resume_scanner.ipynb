{
  "nbformat": 4,
  "nbformat_minor": 0,
  "metadata": {
    "colab": {
      "name": "resume scanner",
      "provenance": [],
      "authorship_tag": "ABX9TyPPeG/vGnTirEre69RukkXh",
      "include_colab_link": true
    },
    "kernelspec": {
      "name": "python3",
      "display_name": "Python 3"
    },
    "language_info": {
      "name": "python"
    }
  },
  "cells": [
    {
      "cell_type": "markdown",
      "metadata": {
        "id": "view-in-github",
        "colab_type": "text"
      },
      "source": [
        "<a href=\"https://colab.research.google.com/github/ananyaprao/github-/blob/main/resume_scanner.ipynb\" target=\"_parent\"><img src=\"https://colab.research.google.com/assets/colab-badge.svg\" alt=\"Open In Colab\"/></a>"
      ]
    },
    {
      "cell_type": "markdown",
      "metadata": {
        "id": "4qRaHwVX4-SQ"
      },
      "source": [
        "**DESCRIPTION : PROGRAM TO MATCH UR RESUME TO JOB DESCRIPTION** \n",
        "\n",
        "**RESUME SCANNER**"
      ]
    },
    {
      "cell_type": "code",
      "metadata": {
        "id": "KilZ85e4430O"
      },
      "source": [
        "#INSTALL THE DOC2TXT PACKAGE\n",
        "!pip install docx2txt\n"
      ],
      "execution_count": null,
      "outputs": []
    },
    {
      "cell_type": "code",
      "metadata": {
        "id": "ojTeR1GR6E9r"
      },
      "source": [
        "#IMPORTING THE LIBRARY\n",
        "import docx2txt"
      ],
      "execution_count": 4,
      "outputs": []
    },
    {
      "cell_type": "code",
      "metadata": {
        "id": "NY-DVxSy6P_I"
      },
      "source": [
        "#LOAD THE DATA\n",
        "job_description = '/content/JOB DESCRIPTION.docx'\n",
        "resume = '/content/MARIA LISA RESUME.docx'\n"
      ],
      "execution_count": 14,
      "outputs": []
    },
    {
      "cell_type": "code",
      "metadata": {
        "id": "w5LnmriY_S1y"
      },
      "source": [
        "#STORE THE RESUME IN VARIABLE \n",
        "resume = docx2txt.process('/content/MARIA LISA RESUME.docx')"
      ],
      "execution_count": 15,
      "outputs": []
    },
    {
      "cell_type": "code",
      "metadata": {
        "id": "EBJl1fc7_nFB"
      },
      "source": [
        "#PRINT THE RESUME\n",
        "print(resume)"
      ],
      "execution_count": null,
      "outputs": []
    },
    {
      "cell_type": "code",
      "metadata": {
        "id": "2WKKD0OG_yBr"
      },
      "source": [
        "#STORE THE JOB DESCRIPTION IN VARIABLE \n",
        "job_description = docx2txt.process('/content/JOB DESCRIPTION.docx')"
      ],
      "execution_count": 17,
      "outputs": []
    },
    {
      "cell_type": "code",
      "metadata": {
        "id": "nZ9TO5jaAD34"
      },
      "source": [
        "#PRINT THE JOB DESCRIPTION \n",
        "print(job_description)"
      ],
      "execution_count": null,
      "outputs": []
    },
    {
      "cell_type": "code",
      "metadata": {
        "id": "Qz74X_y5APQc"
      },
      "source": [
        "#A LIST OF TEXT\n",
        "text = [resume,job_description]\n",
        "from sklearn.feature_extraction.text import CountVectorizer\n",
        "cv = CountVectorizer()\n",
        "count_matrix = cv.fit_transform(text)\n",
        "from sklearn.metrics.pairwise import cosine_similarity"
      ],
      "execution_count": 19,
      "outputs": []
    },
    {
      "cell_type": "code",
      "metadata": {
        "id": "gEXk23X1BI6d"
      },
      "source": [
        "#PRINT THE SIMILARITY SCORES\n",
        "print(\"\\nsimilarity scores:\")\n",
        "print(cosine_similarity(count_matrix))"
      ],
      "execution_count": null,
      "outputs": []
    },
    {
      "cell_type": "code",
      "metadata": {
        "colab": {
          "base_uri": "https://localhost:8080/"
        },
        "id": "eVLX2vGZCXxk",
        "outputId": "4ec2d8db-650c-428f-f4d0-ce5b138d0f41"
      },
      "source": [
        "#TO GET MATCH PERCENTAGE\n",
        "matchpercentage = cosine_similarity(count_matrix)[0][1]*100\n",
        "matchpercentage = round(matchpercentage,2) #ROUND OFF TO TWO DECIMAL PLACES\n",
        "print(\"your resume matches about \" + str(matchpercentage)+ \"% of the job description\")"
      ],
      "execution_count": 25,
      "outputs": [
        {
          "output_type": "stream",
          "name": "stdout",
          "text": [
            "your resume matches about 52.64% of the job description\n"
          ]
        }
      ]
    },
    {
      "cell_type": "code",
      "metadata": {
        "colab": {
          "base_uri": "https://localhost:8080/"
        },
        "id": "dwdkAE-rDpzb",
        "outputId": "321ecea6-f0af-4d00-ed3e-045323e84674"
      },
      "source": [
        "if (matchpercentage>=80):\n",
        "  print('\\nCONGRATULATIONS YOU ARE ELIGIBLE')\n",
        "else:\n",
        " print('LOOKS GOOD BUT TRY AGAIN HARDER')\n",
        "\n"
      ],
      "execution_count": 45,
      "outputs": [
        {
          "output_type": "stream",
          "name": "stdout",
          "text": [
            "LOOKS GOOD BUT TRY AGAIN HARDER\n"
          ]
        }
      ]
    }
  ]
}